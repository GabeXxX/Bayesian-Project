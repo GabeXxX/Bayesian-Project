{
 "cells": [
  {
   "cell_type": "code",
   "execution_count": 1,
   "id": "5de88c22",
   "metadata": {},
   "outputs": [],
   "source": [
    "import pandas as pd\n",
    "import numpy as np\n",
    "import matplotlib.pyplot as plt\n",
    "import math\n",
    "import scipy\n",
    "from scipy.integrate import dblquad"
   ]
  },
  {
   "cell_type": "markdown",
   "id": "72173c5f",
   "metadata": {},
   "source": [
    "Starting from the following unconstrained model for the data\n",
    "$$\n",
    "    Y_i|\\beta \\sim \\mathcal{N}(\\int_{T} x_i(t)\\beta(t) dt+ \\mu, \\sigma^2)\n",
    "$$\n",
    "$$\n",
    "    \\beta \\sim GP(0,K)\n",
    "$$\n",
    "\n",
    "Assuming $\\mu$ and $\\sigma^2$ known, we consider functional coefficients $\\beta^0$ equal to zero on a given set $T_0 ⊂ T$.  A random process $\\beta^0=\\beta^0(t)$ with such a property will be called a constrained random process. \n",
    "\n",
    "We can construct a **constrained Gaussian process  $\\beta^0$** from the unconstrained\n",
    "Gaussian process $\\beta$ since, with probability one, $\\beta$ can be decomposed into the sum of two independent Gaussian random processes $\\beta^0$ and $\\beta^1$ such that $\\beta^0$ is zero on $T^0$. Nevertheless $\\beta^0$ and $\\beta^1$ share the same smoothness properties with $\\beta$.\n",
    "\n",
    "It can be shown that the distribution of $\\beta^0$ can be viewed as the distribution of $\\beta$ conditioned by $\\beta_\\tau=\\beta(\\tau) = 0$    $∀𝜏∈T_0$\n",
    "\n",
    "Hence our Bayesian model is:\n",
    "$$\n",
    "    Y_i|\\beta^0,\\mu,\\sigma^2 \\sim N(\\int_{T} \\mu + x_i(t)*\\beta^0(t) dt, \\sigma^2)\n",
    "$$\n",
    "$$\n",
    "    \\beta^0|\\sigma^2,T_0 \\sim GP(0,\\sigma^2 K^0)\n",
    "$$\n",
    "$$\n",
    "    p(\\mu,\\sigma)\\propto \\frac{1}{\\sigma^2}\n",
    "$$"
   ]
  },
  {
   "cell_type": "markdown",
   "id": "2eb73c75",
   "metadata": {},
   "source": [
    "\n",
    "### Synthetic data generation"
   ]
  },
  {
   "cell_type": "markdown",
   "id": "06e00242",
   "metadata": {},
   "source": [
    "The intervals $T$ and $T_0$ are approximated using a finite grid of discrete values:\n",
    "$$\n",
    "        t_1,...t_g ∈ T   \\text{  ,  }   \\tau_1,...\\tau_m ∈T_0\n",
    "$$\n",
    "\n",
    "While the integral is approximated using rectangle method.\n"
   ]
  },
  {
   "cell_type": "code",
   "execution_count": 2,
   "id": "75162327",
   "metadata": {},
   "outputs": [],
   "source": [
    "sigma=0.25\n",
    "mu=0\n",
    "n=100\n",
    "t00=-1\n",
    "t01=1.5\n",
    "t0=-3\n",
    "t1=3\n",
    "g=2**7\n",
    "T = np.linspace(t0,t1,g)\n",
    "\n",
    "#m???\n",
    "step=(t1-t0)/(g-1)\n",
    "i=t0\n",
    "while np.abs(i)>np.abs(t00):\n",
    "    i+=step\n",
    "T0=np.arange(i, t01, step)\n",
    "m=T0.size"
   ]
  },
  {
   "cell_type": "markdown",
   "id": "2ff83a29",
   "metadata": {},
   "source": [
    "To project a generic $f(t)$ onto the subspace of functions that vanish on $T_0$ in the RKHS with kernel $K(s, t)$ we do:\n",
    "\n",
    "$$ f_{proj}(t)=\\sum_{t_i ∈ T_0}(c_i K(t_i,t))$$   where $$c_i= \\langle f, K(t_i,) \\rangle _H =\\int_{T_0} f(t)K(t_i,s)dtds  \\text{, } t_i ∈ T_0$$\n",
    "\n",
    "\n",
    "We approximate $\\beta^0$ with $\\beta^0_{true}$ such that:\n",
    "\n",
    "$$ \n",
    "f(t)=sin(t \\pi/4) \\text{ and } f_{proj}(t)=\\beta^{0}_{true}(t)\n",
    "$$\n",
    "\n"
   ]
  },
  {
   "cell_type": "code",
   "execution_count": 3,
   "id": "8ec47dbd",
   "metadata": {},
   "outputs": [],
   "source": [
    "#f(t) to project\n",
    "def original_function(t): \n",
    "    return np.sin(t * np.pi / 4)\n",
    "\n",
    "def gaussian_kernel(s, t):\n",
    "    return np.exp(-2*(s - t)**2) \n",
    "\n",
    "#projection coefficients i.e. approx of inner products (c_i)\n",
    "def projection_coefficient(t,i, kernel, interval):\n",
    "    result, _ = dblquad(lambda s, t: original_function(t) *kernel(i,s), interval[0], interval[-1], lambda _: interval[0], lambda _: interval[-1])\n",
    "    return result\n",
    "\n",
    "#projected function i.e. beta0_true(t)\n",
    "def projected_function(t, kernel, interval):\n",
    "    return sum(projection_coefficient(t,i, kernel, interval) * kernel(i, t) for i in interval)\n",
    "\n",
    "\n",
    "    \n",
    "#rectangle for approx of integrals\n",
    "def rect(t0,t1,f,k=None,proj=None): \n",
    "    n_rect=30 \n",
    "    h=(t1-t0)/n_rect\n",
    "    summ=0\n",
    "    if  proj is None and k is None:   #to evaluate the integral of a funct\n",
    "        for i in range(t0,t1):\n",
    "            summ += f[np.abs(T - (i+h)/2).argmin()]\n",
    "    else:\n",
    "        for i in range(t0,t1): #specifically to evaluate the integral of a funct*beta0\n",
    "            summ += f[np.abs(T - (i+h)/2).argmin()]*proj(np.abs(T - (i+h)/2).argmin(),k,T0) \n",
    "    return summ*h\n",
    "    \n",
    "    \n",
    "# covariate generation\n",
    "np.random.seed(2326)\n",
    "K = np.zeros((g,g))\n",
    "for i in range(g):\n",
    "    for j in range(g):\n",
    "        K[i,j]=gaussian_kernel(T[i],T[j])        \n",
    "x = np.random.multivariate_normal(np.zeros(g),K,n)  \n",
    "err=np.random.normal(mu,sigma,n)\n",
    "\n",
    "y = np.zeros(n) \n",
    "for j in range(n): \n",
    "    y[j]=rect(t0,t1,x[j,:], gaussian_kernel,projected_function)+err[j]"
   ]
  },
  {
   "cell_type": "markdown",
   "id": "122d81ff",
   "metadata": {},
   "source": [
    "### Posterior distribution"
   ]
  },
  {
   "cell_type": "markdown",
   "id": "d180fcb7",
   "metadata": {},
   "source": [
    "\n",
    "The posterior distribution of $\\beta^0$ becomes:\n",
    "$$\n",
    "    \\beta^0|\\mu,\\sigma^2,T_0 \\sim GP(m,K^*)\n",
    "$$\n",
    "\n",
    "Where\n",
    "$$\n",
    "    m(t) = L^0x(t)^{'}M^{-1}(Y-\\mu I_n)\n",
    "$$\n",
    "$$\n",
    "    K^*(s,t) = \\sigma^2(K^0(s,t) - L^0x(s)^{'}M^{-1}L^0x(t))\n",
    "$$\n",
    "with\n",
    "$$\n",
    "    L^0x(t)^{'} = [L^0x_1(t), ..., L^0x_n(t)]\n",
    "$$\n",
    "$$\n",
    "  L^0x_i(t) = \\int_{T} K^0(t,s)x_i(s)ds  \n",
    "$$\n",
    "$$\n",
    "    M=\\Sigma_0+I_n\n",
    "$$\n",
    "$$\n",
    "    \\Sigma^0_{ij} = R^0(x_i, x_j)= \\int_{T} \\int_{T} K^0(s,t)x_i(s)x_j(t)ds dt\n",
    "$$\n",
    "\n",
    "Integrals are approximated using finite sums:\n",
    "\n",
    "* Projection $K^0$ of $K$ into the subspace $H^0$ of $H$ (RKHS with kernel K)\n",
    "\n",
    "    Let:\n",
    "$$ \n",
    "     K_{tt}\\quad \\text{ gxg matrix with entries}\\quad [K_{tt}]_{ij}=K(t_i,t_j)  \\quad  t=(t_1,...t_g)∈T\n",
    "$$\n",
    "$$     K_{\\tau \\tau} \\quad \\text{ mxm matrix with entries}\\quad [K_{\\tau \\tau}]_{ij}=K(\\tau_i,\\tau_j) \\quad    \\tau=(\\tau_1,...\\tau_m)∈T_0\n",
    "$$\n",
    "$$     K_{t \\tau} \\quad \\text{ gxm matrix with entries}\\quad [K_{t \\tau}]_{ij}=K(t_i,\\tau_j)     \n",
    "$$\n",
    "\n",
    "    We define the $gxg$ matrix $K^0_{tt}$ with entries $[K^0_{tt}]_{ij}=K^0(t_i,t_j)\\quad t=(t_1,...t_g)∈T$ :\n",
    "\n",
    "\n",
    "$$\n",
    "     K^0_{tt}\\approx K_{tt}-K_{t\\tau}K{\\tau \\tau}^{-1} K_{t\\tau}^{'}\n",
    "$$\n",
    "\n",
    "* Integral operator L with kernel $K^0$\n",
    "  \n",
    "$$   L^0x(s)^{'}\\approx \\delta K^0_{tt}X^{'}\n",
    "$$\n",
    "\n",
    "* Covariance matrix with kernel $K^0$\n",
    " \n",
    "$$\n",
    "    \\Sigma^0\\approx \\delta^2 XK^0_{tt}X^{'}\n",
    "$$\n",
    "     Where\n",
    "$$   \\delta = t_{i+1} − t_{i}\n",
    "$$\n",
    "$$   X    \\text{     nxg matrix with entries    }   [X]_{ij} = x_i(t_j)\n",
    "$$\n"
   ]
  },
  {
   "cell_type": "code",
   "execution_count": 4,
   "id": "0fb070ad",
   "metadata": {},
   "outputs": [],
   "source": [
    "Ktau=np.zeros((m,m))\n",
    "for i in range(m):\n",
    "    for j in range(m):\n",
    "        Ktau[i,j]=gaussian_kernel(T0[i],T0[j]) \n",
    "        \n",
    "Kt_tau=np.zeros((g,m))\n",
    "for i in range(g):\n",
    "    for j in range(m):\n",
    "        Kt_tau[i,j]=gaussian_kernel(T[i],T0[j])   \n",
    "        \n",
    "K0=np.zeros((g,g))     \n",
    "K0=K-np.dot(np.dot(Kt_tau,np.linalg.inv(Ktau)),np.transpose(Kt_tau))\n",
    "\n",
    "deltaL=np.zeros((n,g)) #100*128\n",
    "for i in range(n):\n",
    "    for j in range(g-1):\n",
    "        deltaL[i,j]=T[j+1]-T[j]\n",
    "L0=np.transpose(np.transpose(deltaL)*np.dot(K0,np.transpose(x)) ) #should be 100*128     128*128 *  128*100= 128*100\n",
    "L0=deltaL*np.dot(x,K0)\n",
    "\n",
    "deltaS=np.zeros((n,n))\n",
    "for i in range(n):\n",
    "    for j in range(n-1):\n",
    "        deltaL[i,j]=T[j+1]-T[j]\n",
    "S0=deltaS*np.dot(np.dot(x,K0),np.transpose(x))\n"
   ]
  },
  {
   "cell_type": "code",
   "execution_count": 5,
   "id": "54130686",
   "metadata": {},
   "outputs": [],
   "source": [
    "# Posterior Parameter:\n",
    "M = np.zeros((n,n))\n",
    "M=S0+np.identity(n)\n",
    "\n",
    "m=np.zeros(g)\n",
    "m=np.dot(np.transpose(L0),np.dot(np.linalg.inv(M),(y-mu*np.ones(n))))\n",
    "Kst = np.zeros((g,g))\n",
    "Kst=sigma**2*(K0-np.dot(np.transpose(L0),np.dot(np.linalg.inv(M),L0)))\n"
   ]
  },
  {
   "cell_type": "markdown",
   "id": "1c39ad8a",
   "metadata": {},
   "source": [
    "The conditional density of $Y$ given $T_0$ is:\n",
    "$$\n",
    "    p(Y|T_0)\\propto |M|^{1/2}S_{11}^{-1/2}b^{-(n-1)/2}\n",
    "$$\n",
    "\n",
    "where\n",
    "$$\n",
    "    b=0.5(S_{YY}-S_{1Y}^2/S_{11}) \\text{  ,}  \\quad S_{11}=\\mathbf{1}_{n}^{'}M^{-1}\\mathbf{1}_{n}\\text{  ,} \\quad  S_{1Y}=Y^{'}M^{-1}Y\n",
    "$$\n",
    "and\n",
    "$$\n",
    "        p(\\mu, \\sigma^2|Y,T_0)=NIG(S_{1Y}/S_{11}, 1/S_{11}, (n-1)/2, b)\n",
    "$$\n",
    "\n",
    "Hence, when $T_0$ is fixed at its posterior mode  $\\hat{T^0}$ :\n",
    "$$\n",
    "     \\hat{\\beta^0}= \\mathbf{E}(\\beta_t^0|Y,T_0)=L^0x(t)^{'}M^{-1}(Y-S_{Y1}/S_{11}\\mathbf{1}_n)\n",
    "$$"
   ]
  },
  {
   "cell_type": "code",
   "execution_count": 6,
   "id": "1e653d85",
   "metadata": {},
   "outputs": [
    {
     "data": {
      "text/plain": [
       "array([-8.51027106e-01, -9.24472501e-01, -9.96970016e-01, -1.06669533e+00,\n",
       "       -1.13130887e+00, -1.18779474e+00, -1.23224356e+00, -1.25956613e+00,\n",
       "       -1.26312716e+00, -1.23429370e+00, -1.16190470e+00, -1.03168650e+00,\n",
       "       -8.25667667e-01, -5.21685452e-01, -9.31273474e-02,  4.90886460e-01,\n",
       "        1.26460223e+00,  2.26365956e+00,  3.52161841e+00,  5.06449738e+00,\n",
       "        6.90279904e+00,  9.02050318e+00,  1.13605713e+01,  1.38066402e+01,\n",
       "        1.61608040e+01,  1.81176975e+01,  1.92354997e+01,  1.89049700e+01,\n",
       "        1.63181702e+01,  1.04390983e+01, -2.10078780e-02, -1.66205035e+01,\n",
       "       -4.11928402e+01, -7.58372544e+01, -1.22891441e+02, -1.84883669e+02,\n",
       "       -2.64462834e+02, -3.64306391e+02, -4.87007846e+02, -6.34947522e+02,\n",
       "       -8.10152385e+02, -1.01415275e+03, -1.24784538e+03, -1.51137381e+03,\n",
       "       -1.80403703e+03, -2.12423755e+03, -2.46947829e+03, -2.83641546e+03,\n",
       "       -3.22097129e+03, -3.61850632e+03, -4.02404621e+03, -4.43255340e+03,\n",
       "       -4.83922911e+03, -5.23982728e+03, -5.63095888e+03, -6.01036371e+03,\n",
       "       -6.37712643e+03, -6.73181584e+03, -7.07652972e+03, -7.41483306e+03,\n",
       "       -7.75158413e+03, -8.09265062e+03, -8.44452604e+03, -8.81386463e+03,\n",
       "       -9.20696028e+03, -9.62920056e+03, -1.00845312e+04, -1.05749674e+04,\n",
       "       -1.11001885e+04, -1.16572475e+04, -1.22404216e+04, -1.28412223e+04,\n",
       "       -1.34485722e+04, -1.40491463e+04, -1.46278629e+04, -1.51685006e+04,\n",
       "       -1.56544067e+04, -1.60692584e+04, -1.63978308e+04, -1.66267267e+04,\n",
       "       -1.67450255e+04, -1.67448129e+04, -1.66215608e+04, -1.63743385e+04,\n",
       "       -1.60058444e+04, -1.55222630e+04, -1.49329585e+04, -1.42500297e+04,\n",
       "       -1.34877570e+04, -1.26619757e+04, -1.17894160e+04, -1.08870460e+04,\n",
       "       -9.97145219e+03, -9.05828767e+03, -8.16181068e+03, -7.29452794e+03,\n",
       "       -6.46695091e+03, -5.68746412e+03, -4.96229912e+03, -4.29560176e+03,\n",
       "       -3.68957678e+03, -3.14469168e+03, -2.65992076e+03, -2.23301128e+03,\n",
       "       -1.86075498e+03, -1.53925114e+03, -1.26414996e+03, -1.03086843e+03,\n",
       "       -8.34773840e+02, -6.71332676e+02, -5.36225283e+02, -4.25428181e+02,\n",
       "       -3.35267408e+02, -2.62446989e+02, -2.04056994e+02, -1.57565674e+02,\n",
       "       -1.20799879e+02, -9.19175046e+01, -6.93752008e+01, -5.18939331e+01,\n",
       "       -3.84244309e+01, -2.81140079e+01, -2.02757637e+01, -1.43607783e+01,\n",
       "       -9.93359479e+00, -6.65103779e+00, -4.24424631e+00,  0.00000000e+00])"
      ]
     },
     "execution_count": 6,
     "metadata": {},
     "output_type": "execute_result"
    }
   ],
   "source": [
    "S11=np.ones(n).T@np.linalg.inv(M)@np.ones(n)\n",
    "SY1=y.T@np.linalg.inv(M)@y\n",
    "beta0_hat=np.dot(np.transpose(L0),np.dot(np.linalg.inv(M),(y-SY1/S11*np.ones(n))))\n",
    "beta0_hat"
   ]
  },
  {
   "cell_type": "markdown",
   "id": "74d2df42",
   "metadata": {},
   "source": [
    "## Simulate from the posterior"
   ]
  },
  {
   "cell_type": "code",
   "execution_count": 7,
   "id": "9a7cef7a",
   "metadata": {},
   "outputs": [
    {
     "name": "stderr",
     "output_type": "stream",
     "text": [
      "C:\\Users\\Silvia\\AppData\\Local\\Temp\\ipykernel_26768\\2714513392.py:1: RuntimeWarning: covariance is not symmetric positive-semidefinite.\n",
      "  beta_p = np.random.multivariate_normal(m,Kst)\n"
     ]
    },
    {
     "data": {
      "text/plain": [
       "Text(0.5, 1.0, 'Sample from beta posterior')"
      ]
     },
     "execution_count": 7,
     "metadata": {},
     "output_type": "execute_result"
    },
    {
     "data": {
      "image/png": "[encoded data removed]",
      "text/plain": [
       "<Figure size 640x480 with 1 Axes>"
      ]
     },
     "metadata": {},
     "output_type": "display_data"
    }
   ],
   "source": [
    "beta_p = np.random.multivariate_normal(m,Kst)\n",
    "plt.plot(beta_p)\n",
    "plt.title('Sample from beta posterior')\n"
   ]
  },
  {
   "cell_type": "code",
   "execution_count": 8,
   "id": "9a67fe87",
   "metadata": {},
   "outputs": [
    {
     "data": {
      "text/plain": [
       "<matplotlib.collections.PathCollection at 0x1ffe2c0f280>"
      ]
     },
     "execution_count": 8,
     "metadata": {},
     "output_type": "execute_result"
    },
    {
     "data": {
      "image/png": "[encoded data removed]",
      "text/plain": [
       "<Figure size 640x480 with 1 Axes>"
      ]
     },
     "metadata": {},
     "output_type": "display_data"
    }
   ],
   "source": [
    "# Predict Y_i from the beta_p\n",
    "y_pred = np.zeros(n) # np.random.multivariate_normal(np.zeros(n),S + sigma * np.identity(n))\n",
    "err1=np.random.normal(mu,sigma,n)\n",
    "for i in np.arange(0,n):\n",
    "    y_pred[i] = mu + rect(t0,t1,x[i,:]*beta_p) + sigma *err1[i]\n",
    "\n",
    "# Confront with the true Y_i\n",
    "plt.scatter(y,y_pred)"
   ]
  },
  {
   "cell_type": "markdown",
   "id": "e6e5a731",
   "metadata": {},
   "source": [
    "#### Kst is not symmetric positive semidefinite, let's try to fix that"
   ]
  },
  {
   "cell_type": "code",
   "execution_count": 9,
   "id": "61387fd4",
   "metadata": {},
   "outputs": [],
   "source": [
    "def is_positive_semidef(matrix):\n",
    "    try:\n",
    "        np.linalg.cholesky(matrix)\n",
    "        return True\n",
    "    except np.linalg.LinAlgError as e:\n",
    "        if \"Matrix is not positive definite\" in str(e):\n",
    "            return True \n",
    "        else:\n",
    "            return False\n"
   ]
  },
  {
   "cell_type": "code",
   "execution_count": 10,
   "id": "5d2a3898",
   "metadata": {},
   "outputs": [
    {
     "data": {
      "text/plain": [
       "True"
      ]
     },
     "execution_count": 10,
     "metadata": {},
     "output_type": "execute_result"
    }
   ],
   "source": [
    "is_positive_semidef(K0)"
   ]
  },
  {
   "cell_type": "code",
   "execution_count": 11,
   "id": "65f3d216",
   "metadata": {},
   "outputs": [
    {
     "data": {
      "text/plain": [
       "False"
      ]
     },
     "execution_count": 11,
     "metadata": {},
     "output_type": "execute_result"
    }
   ],
   "source": [
    "np.array_equal(K0,K0.T) "
   ]
  },
  {
   "cell_type": "markdown",
   "id": "4a4ad0fc",
   "metadata": {},
   "source": [
    "So $K^{0}$ is positive semidefinite but not symmetric, we can fix that by rounding the values"
   ]
  },
  {
   "cell_type": "code",
   "execution_count": 12,
   "id": "3a8a2b11",
   "metadata": {},
   "outputs": [],
   "source": [
    "sym_K0 = (K0 + K0.T) / 2"
   ]
  },
  {
   "cell_type": "code",
   "execution_count": 13,
   "id": "20fc5c28",
   "metadata": {},
   "outputs": [
    {
     "data": {
      "text/plain": [
       "array([[ 0.00000000e+00,  3.31548606e-04,  8.84918600e-04, ...,\n",
       "        -2.93915548e-01, -2.31083794e-01, -1.79720644e-01],\n",
       "       [-3.31548606e-04,  0.00000000e+00,  5.92110660e-04, ...,\n",
       "        -3.35701620e-01, -2.65368702e-01, -2.07393313e-01],\n",
       "       [-8.84918600e-04, -5.92110660e-04,  0.00000000e+00, ...,\n",
       "        -3.73425906e-01, -2.97196490e-01, -2.33673032e-01],\n",
       "       ...,\n",
       "       [ 2.93915548e-01,  3.35701620e-01,  3.73425906e-01, ...,\n",
       "         0.00000000e+00, -2.15474684e-03, -4.07709112e-03],\n",
       "       [ 2.31083794e-01,  2.65368702e-01,  2.97196490e-01, ...,\n",
       "         2.15474684e-03,  0.00000000e+00, -1.95090239e-03],\n",
       "       [ 1.79720644e-01,  2.07393313e-01,  2.33673032e-01, ...,\n",
       "         4.07709112e-03,  1.95090239e-03,  0.00000000e+00]])"
      ]
     },
     "execution_count": 13,
     "metadata": {},
     "output_type": "execute_result"
    }
   ],
   "source": [
    "K0-sym_K0 #how much are we loosing?"
   ]
  },
  {
   "cell_type": "code",
   "execution_count": 14,
   "id": "9c5d6534",
   "metadata": {},
   "outputs": [
    {
     "data": {
      "text/plain": [
       "True"
      ]
     },
     "execution_count": 14,
     "metadata": {},
     "output_type": "execute_result"
    }
   ],
   "source": [
    "is_positive_semidef(M)"
   ]
  },
  {
   "cell_type": "code",
   "execution_count": 15,
   "id": "d9dcb3e3",
   "metadata": {},
   "outputs": [
    {
     "data": {
      "text/plain": [
       "True"
      ]
     },
     "execution_count": 15,
     "metadata": {},
     "output_type": "execute_result"
    }
   ],
   "source": [
    "np.array_equal(M,M.T)"
   ]
  },
  {
   "cell_type": "markdown",
   "id": "6b929e6d",
   "metadata": {},
   "source": [
    "For M we are good.  $L^{0}{'}M^{-1}L^{0}$ should still be symmetric and positive semidefinite, however:"
   ]
  },
  {
   "cell_type": "code",
   "execution_count": 16,
   "id": "eb978046",
   "metadata": {},
   "outputs": [
    {
     "data": {
      "text/plain": [
       "True"
      ]
     },
     "execution_count": 16,
     "metadata": {},
     "output_type": "execute_result"
    }
   ],
   "source": [
    "is_positive_semidef(np.dot(np.transpose(L0),np.dot(np.linalg.inv(M),L0)))"
   ]
  },
  {
   "cell_type": "code",
   "execution_count": 17,
   "id": "85afcc4e",
   "metadata": {},
   "outputs": [
    {
     "data": {
      "text/plain": [
       "False"
      ]
     },
     "execution_count": 17,
     "metadata": {},
     "output_type": "execute_result"
    }
   ],
   "source": [
    "np.array_equal(np.dot(np.transpose(L0),np.dot(np.linalg.inv(M),L0)),np.dot(np.transpose(L0),np.dot(np.linalg.inv(M),L0)).T)"
   ]
  },
  {
   "cell_type": "markdown",
   "id": "20e77ba0",
   "metadata": {},
   "source": [
    "Let's fix also this:"
   ]
  },
  {
   "cell_type": "code",
   "execution_count": 18,
   "id": "9ff8731e",
   "metadata": {},
   "outputs": [],
   "source": [
    "sym_temp = (np.dot(np.transpose(L0),np.dot(np.linalg.inv(M),L0))+np.dot(np.transpose(L0),np.dot(np.linalg.inv(M),L0)).T) / 2"
   ]
  },
  {
   "cell_type": "code",
   "execution_count": 19,
   "id": "f4794577",
   "metadata": {},
   "outputs": [
    {
     "data": {
      "text/plain": [
       "array([[0., 0., 0., ..., 0., 0., 0.],\n",
       "       [0., 0., 0., ..., 0., 0., 0.],\n",
       "       [0., 0., 0., ..., 0., 0., 0.],\n",
       "       ...,\n",
       "       [0., 0., 0., ..., 0., 0., 0.],\n",
       "       [0., 0., 0., ..., 0., 0., 0.],\n",
       "       [0., 0., 0., ..., 0., 0., 0.]])"
      ]
     },
     "execution_count": 19,
     "metadata": {},
     "output_type": "execute_result"
    }
   ],
   "source": [
    "sym_temp-np.dot(np.transpose(L0),np.dot(np.linalg.inv(M),L0))"
   ]
  },
  {
   "cell_type": "code",
   "execution_count": 20,
   "id": "69a3b92c",
   "metadata": {},
   "outputs": [
    {
     "data": {
      "text/plain": [
       "True"
      ]
     },
     "execution_count": 20,
     "metadata": {},
     "output_type": "execute_result"
    }
   ],
   "source": [
    "new_Kst=sigma**2*(sym_K0-sym_temp)\n",
    "np.array_equal(new_Kst,new_Kst.T)"
   ]
  },
  {
   "cell_type": "code",
   "execution_count": 21,
   "id": "2f383b12",
   "metadata": {},
   "outputs": [
    {
     "data": {
      "text/plain": [
       "True"
      ]
     },
     "execution_count": 21,
     "metadata": {},
     "output_type": "execute_result"
    }
   ],
   "source": [
    "is_positive_semidef(new_Kst)"
   ]
  },
  {
   "cell_type": "code",
   "execution_count": 22,
   "id": "85c63ad7",
   "metadata": {},
   "outputs": [
    {
     "name": "stderr",
     "output_type": "stream",
     "text": [
      "C:\\Users\\Silvia\\AppData\\Local\\Temp\\ipykernel_26768\\2086384928.py:2: RuntimeWarning: covariance is not symmetric positive-semidefinite.\n",
      "  beta_p = np.random.multivariate_normal(m,new_Kst)\n"
     ]
    },
    {
     "data": {
      "text/plain": [
       "Text(0.5, 1.0, 'Sample from beta posterior')"
      ]
     },
     "execution_count": 22,
     "metadata": {},
     "output_type": "execute_result"
    },
    {
     "data": {
      "image/png": "[encoded data removed]",
      "text/plain": [
       "<Figure size 640x480 with 1 Axes>"
      ]
     },
     "metadata": {},
     "output_type": "display_data"
    }
   ],
   "source": [
    "#let's try sim again\n",
    "beta_p = np.random.multivariate_normal(m,new_Kst)\n",
    "plt.plot(beta_p)\n",
    "plt.title('Sample from beta posterior')"
   ]
  },
  {
   "cell_type": "code",
   "execution_count": 23,
   "id": "0a38b8a6",
   "metadata": {},
   "outputs": [
    {
     "data": {
      "text/plain": [
       "<matplotlib.collections.PathCollection at 0x1ffe2cf1520>"
      ]
     },
     "execution_count": 23,
     "metadata": {},
     "output_type": "execute_result"
    },
    {
     "data": {
      "image/png": "[encoded data removed]",
      "text/plain": [
       "<Figure size 640x480 with 1 Axes>"
      ]
     },
     "metadata": {},
     "output_type": "display_data"
    }
   ],
   "source": [
    "# Predict Y_i from the beta_p\n",
    "y_pred = np.zeros(n)\n",
    "\n",
    "err1=np.random.normal(mu,sigma,n)\n",
    "for i in np.arange(0,n):\n",
    "    y_pred[i] = mu + rect(t0,t1,x[i,:]*beta0_hat) + sigma *err1[i]\n",
    "\n",
    "# Confront with the true Y_i\n",
    "plt.scatter(y,y_pred)"
   ]
  }
 ],
 "metadata": {
  "kernelspec": {
   "display_name": "Python 3 (ipykernel)",
   "language": "python",
   "name": "python3"
  },
  "language_info": {
   "codemirror_mode": {
    "name": "ipython",
    "version": 3
   },
   "file_extension": ".py",
   "mimetype": "text/x-python",
   "name": "python",
   "nbconvert_exporter": "python",
   "pygments_lexer": "ipython3",
   "version": "3.9.18"
  }
 },
 "nbformat": 4,
 "nbformat_minor": 5
}
