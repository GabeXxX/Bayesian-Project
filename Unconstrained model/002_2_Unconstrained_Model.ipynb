{
 "cells": [
  {
   "cell_type": "code",
   "execution_count": 1,
   "id": "dc10e981-94d7-4c5c-a4f8-b018354a1363",
   "metadata": {},
   "outputs": [],
   "source": [
    "import numpy as np\n",
    "import matplotlib.pyplot as plt\n",
    "import scipy"
   ]
  },
  {
   "cell_type": "markdown",
   "id": "06d492b6-4894-43ea-b1fe-1d71a4e62a19",
   "metadata": {},
   "source": [
    "# Paper 1 - Uncostrained model "
   ]
  },
  {
   "cell_type": "markdown",
   "id": "6cbceca1-1c2a-424b-b673-7c9cf8c83540",
   "metadata": {},
   "source": [
    "## Generate synthetic data  \n",
    "Assume data is generated from the true model  \n",
    "$$\n",
    "    Y_i = \\mu + \\int_{T} x(t)\\beta(t) \\,dt + \\epsilon_i\n",
    "$$\n",
    "$$\n",
    "    \\beta(t) = sin(t*\\pi/4) \\text{ true parameter}\n",
    "$$\n",
    "$$\n",
    "        x(t) = GP(0, K) \\text{ synthesized covariate}\n",
    "$$\n",
    "$$\n",
    "    \\epsilon_i \\sim N(0,\\sigma^2)\n",
    "$$"
   ]
  },
  {
   "cell_type": "code",
   "execution_count": 2,
   "id": "1e115e2d-c879-4715-8989-1ddeb75a0e61",
   "metadata": {},
   "outputs": [],
   "source": [
    "def integrate(T, f): \n",
    "    tot = 0;\n",
    "    for i in range(len(T)-1):\n",
    "        tot = tot + (1/2 * (f[i]+f[i+1]) * (T[1]-T[0]))\n",
    "    return tot"
   ]
  },
  {
   "cell_type": "code",
   "execution_count": 3,
   "id": "474a4931-5bac-4e82-9acf-a4a144651d6a",
   "metadata": {},
   "outputs": [],
   "source": [
    "class data_generator:\n",
    "    def __init__(self, T1, T2, g, beta, n, covariates_kernel, sigma):\n",
    "        self.T = np.linspace(T1,T2,g)\n",
    "        self.K = np.fromfunction(np.vectorize(lambda s, t: covariates_kernel(self.T[s], self.T[t])), (g, g), dtype=int)\n",
    "        self.g = g\n",
    "        self.n = n\n",
    "        self.beta = beta\n",
    "        self.sigma = sigma\n",
    "    \n",
    "    def grid(self):\n",
    "        return self.T\n",
    "    \n",
    "    def i_o(self):\n",
    "        x = np.random.multivariate_normal(np.zeros(self.g), self.K, self.n)\n",
    "        y = np.fromfunction(np.vectorize(lambda i: integrate(self.T,  x[i,:]*beta)+np.random.normal(0,self.sigma,1)), (self.n,), dtype=int)\n",
    "        return x,y\n",
    "        "
   ]
  },
  {
   "cell_type": "code",
   "execution_count": 34,
   "id": "0c85d40f",
   "metadata": {},
   "outputs": [],
   "source": [
    "# EXAMPLE\n",
    "# input\n",
    "a = -3\n",
    "b = 3\n",
    "g = 2**7\n",
    "n = 100\n",
    "sigma = 1\n",
    "beta = np.sin(np.linspace(a,b,g)*np.pi/4)\n",
    "def covariates_kernel(s,t):\n",
    "    return np.exp(-2*(t-s)**2)\n",
    "def prior_kernel(s,t):\n",
    "    return np.exp(-(t-s)**2)\n",
    "\n",
    "#generation\n",
    "data = data_generator(b,a,g,beta,n,covariates_kernel, sigma)\n",
    "T = data.grid()\n",
    "x,y = data.i_o()"
   ]
  },
  {
   "cell_type": "markdown",
   "id": "8d0ed229-5acb-41b8-8b1f-611576cf67ce",
   "metadata": {},
   "source": [
    "## Compute Posterior"
   ]
  },
  {
   "cell_type": "markdown",
   "id": "705701d2-6b78-4622-a676-0caf88569fe8",
   "metadata": {},
   "source": [
    "Assume the folowing model for the data\n",
    "$$\n",
    "    Y_i|\\beta \\sim N(\\int_{T} x_i(t)*\\beta(t) dt, \\sigma^2)\n",
    "$$\n",
    "$$\n",
    "    \\beta \\sim GP(0,K)\n",
    "$$\n",
    "The posterior distribution for $\\beta$ is\n",
    "$$\n",
    "    \\beta|Y \\sim GP(m,K^*)\n",
    "$$\n",
    "$$\n",
    "    m(t) = Lx(t)^{'}(\\Sigma + \\sigma^2I_n)^{-1}Y\n",
    "$$\n",
    "$$\n",
    "    K^*(s,t) = K(s,t) - Lx(s)^{'}(\\Sigma + \\sigma^2I_n)^{-1}Lx(t)\n",
    "$$\n",
    "with\n",
    "$$\n",
    "    Lx(t)^{'} = (Lx_1(t), ..., Lx_n(t))\n",
    "$$\n",
    "$$\n",
    "  Lx_i(t) = \\int_{T} K(t,s)x_i(s)ds  \n",
    "$$\n",
    "$$\n",
    "    Y = (Y_1,...,Y_n)^{'}\n",
    "$$\n",
    "$$\n",
    "    \\Sigma_{ij} = R(x_i, x_j)\n",
    "$$\n",
    "$$\n",
    "    R(x_i, x_j) = \\int_{T} \\int_{T} K(s,t)*x_i(s)x_j(t)ds dt\n",
    "$$"
   ]
  },
  {
   "cell_type": "code",
   "execution_count": 11,
   "id": "d07722b8-7fb0-4086-90f9-72335b66e2a0",
   "metadata": {},
   "outputs": [],
   "source": [
    "class posterior:\n",
    "    def __init__(self, T, x, y, prior_kernel,sigma):\n",
    "        self.T = T\n",
    "        self.x = x\n",
    "        self.y = y\n",
    "        self.prior_kernel = prior_kernel\n",
    "        self.n = y.shape[0]\n",
    "        self.g = T.shape[0]\n",
    "        self.sigma = sigma\n",
    "        self.K = np.fromfunction(np.vectorize(lambda s, t: self.prior_kernel(self.T[s], self.T[t])), (self.g, self.g), dtype=int)\n",
    "    \n",
    "    def Lx(self,t):   \n",
    "        L = np.zeros(self.n)    \n",
    "        for i in np.arange(0,self.n):\n",
    "            L[i] = integrate(self.T,self.K[t, :] * self.x[i,:])\n",
    "        return L\n",
    "    \n",
    "    def R(self,i, j):\n",
    "        Ri = np.fromfunction(np.vectorize(lambda t: integrate(self.T,self.K[:,t] * self.x[i,:])), (self.g,), dtype=int)\n",
    "        Rij = integrate(self.T, Ri * self.x[j,:])\n",
    "        return  Rij\n",
    "    \n",
    "    def cov(self):\n",
    "        return np.fromfunction(np.vectorize(lambda i, j: self.R(i, j)), (self.n, self.n), dtype=int)\n",
    "    \n",
    "    def posterior_mean_cov(self):\n",
    "        inv = np.linalg.inv(self.cov() + self.sigma * np.identity(self.n))\n",
    "        def m(t):\n",
    "            mean = np.dot(np.dot(np.transpose(self.Lx(t)),inv),self.y)\n",
    "            return mean\n",
    "        def Kstar(s,t):\n",
    "            cov = self.K[s,t] - np.dot(np.dot(np.transpose(self.Lx(s)),inv),self.Lx(t))\n",
    "            return cov\n",
    "        \n",
    "        m = np.fromfunction(np.vectorize(lambda t: m(t)), (self.g,), dtype=int)\n",
    "        C = np.fromfunction(np.vectorize(lambda t, s: Kstar(s,t)), (self.g,self.g), dtype=int)\n",
    "        return m,C\n",
    "    \n",
    "    def only_mean(self):\n",
    "        inv = np.linalg.inv(self.cov() + self.sigma * np.identity(self.n))\n",
    "        def m(t):\n",
    "            mean = np.dot(np.dot(np.transpose(self.Lx(t)),inv),self.y)\n",
    "            return mean\n",
    "        m = np.fromfunction(np.vectorize(lambda t: m(t)), (self.g,), dtype=int)\n",
    "        return m\n",
    "    \n",
    "    def fitted_values(self):\n",
    "        m = self.only_mean()\n",
    "        return np.fromfunction(np.vectorize(lambda i: integrate(T, self.x[i,:]*m)), (self.n,), dtype=int)\n"
   ]
  },
  {
   "cell_type": "code",
   "execution_count": null,
   "id": "38e40593",
   "metadata": {},
   "outputs": [],
   "source": [
    "# EXAMPLE\n",
    "p = posterior(T,x,y,prior_kernel,sigma)\n",
    "m,cov = p.posterior_mean_cov()\n",
    "fitted = p.fitted_values()"
   ]
  },
  {
   "cell_type": "markdown",
   "id": "152f386b",
   "metadata": {},
   "source": [
    "## Simulations and Fitted Values "
   ]
  },
  {
   "cell_type": "code",
   "execution_count": null,
   "id": "c9a6175d-fa8d-463f-9397-a2305b47d4a9",
   "metadata": {},
   "outputs": [],
   "source": [
    "samples = np.random.multivariate_normal(m, cov, size=1000)\n",
    "\n",
    "up = np.zeros(m.shape[0])\n",
    "down = np.zeros(m.shape[0])\n",
    "for i in range(m.shape[0]):\n",
    "    mean, var, std = scipy.stats.bayes_mvs(samples[:,i], alpha=0.95)\n",
    "    mean_estimate, std_estimate = mean.statistic, std.statistic\n",
    "    down[i],up[i] = mean_estimate - std_estimate, mean_estimate + std_estimate \n",
    "\n",
    "\n",
    "\n",
    "plt.plot(T,m, label='Posterior Mean')\n",
    "plt.fill_between(T, down, up, alpha=0.3, label='95% Credibility Interval')\n",
    "\n",
    "plt.title('Posterior Mean with 95% Credibility Interval')\n",
    "plt.xlabel('Parameter Value')\n",
    "plt.legend()\n",
    "plt.show()"
   ]
  },
  {
   "cell_type": "code",
   "execution_count": null,
   "id": "787603e2-013e-40a2-88e5-3a043a2d7ee4",
   "metadata": {},
   "outputs": [],
   "source": [
    "plt.scatter(y,fitted)\n",
    "plt.xlabel('Actual Target')\n",
    "plt.ylabel('Predicted Target')"
   ]
  }
 ],
 "metadata": {
  "kernelspec": {
   "display_name": "Python 3 (ipykernel)",
   "language": "python",
   "name": "python3"
  },
  "language_info": {
   "codemirror_mode": {
    "name": "ipython",
    "version": 3
   },
   "file_extension": ".py",
   "mimetype": "text/x-python",
   "name": "python",
   "nbconvert_exporter": "python",
   "pygments_lexer": "ipython3",
   "version": "3.10.9"
  }
 },
 "nbformat": 4,
 "nbformat_minor": 5
}
