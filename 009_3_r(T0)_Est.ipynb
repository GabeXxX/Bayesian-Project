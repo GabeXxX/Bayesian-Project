{
 "cells": [
  {
   "cell_type": "code",
   "execution_count": 2,
   "id": "bbfbeef6-4181-4cbe-be31-6553dbdef80c",
   "metadata": {},
   "outputs": [
    {
     "name": "stdout",
     "output_type": "stream",
     "text": [
      "Optimal value of k: 65.33538795555904\n",
      "Maximum value of the expression: 2.1770534029805382e-114\n"
     ]
    }
   ],
   "source": [
    "import numpy as np\n",
    "from scipy.special import comb\n",
    "from scipy.optimize import minimize_scalar\n",
    "\n",
    "g = 2**7\n",
    "T = np.linspace(-3, 3, g)\n",
    "\n",
    "#c_k\n",
    "coefficients = [2 * comb(g - 1, int(k_i - 1)) for k_i in T]   \n",
    "\n",
    "#p(r(T0)=k) ∀ k in 1:g\n",
    "def objective_function(k): \n",
    "    k = int(k)\n",
    "    denominator = np.sum(np.array(coefficients) * np.exp(-4 * T))\n",
    "    return -(coefficients[k - 1] * np.exp(-4 * k) / denominator)\n",
    "\n",
    "result = minimize_scalar(objective_function, bounds=(1, g), method='bounded')\n",
    "\n",
    "# Print the result\n",
    "print(\"Optimal value of k:\", result.x)\n",
    "print(\"Maximum value of the expression:\", -result.fun)"
   ]
  }
 ],
 "metadata": {
  "kernelspec": {
   "display_name": "Python 3 (ipykernel)",
   "language": "python",
   "name": "python3"
  },
  "language_info": {
   "codemirror_mode": {
    "name": "ipython",
    "version": 3
   },
   "file_extension": ".py",
   "mimetype": "text/x-python",
   "name": "python",
   "nbconvert_exporter": "python",
   "pygments_lexer": "ipython3",
   "version": "3.9.18"
  }
 },
 "nbformat": 4,
 "nbformat_minor": 5
}
