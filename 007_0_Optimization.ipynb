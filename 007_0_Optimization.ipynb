{
 "cells": [
  {
   "cell_type": "code",
   "execution_count": 1,
   "id": "dc10e981-94d7-4c5c-a4f8-b018354a1363",
   "metadata": {},
   "outputs": [],
   "source": [
    "import numpy as np\n",
    "import matplotlib.pyplot as plt\n",
    "from scipy import integrate\n",
    "from unconstrained_model import posterior, data_generator"
   ]
  },
  {
   "cell_type": "code",
   "execution_count": 2,
   "id": "a587daf3",
   "metadata": {},
   "outputs": [],
   "source": [
    "def integration(T, f): \n",
    "    tot = 0;\n",
    "    for i in range(len(T)-1):\n",
    "        tot = tot + (1/2 * (f[i]+f[i+1]) * (T[1]-T[0]))\n",
    "    return tot\n",
    "\n",
    "def integrate_opt(T, f): \n",
    "    return integrate.trapezoid(f,T)"
   ]
  },
  {
   "cell_type": "code",
   "execution_count": 3,
   "id": "f1f46e63",
   "metadata": {},
   "outputs": [
    {
     "data": {
      "text/plain": [
       "(1.9998321638939927,\n",
       " 1.9998321638939935,\n",
       " 22.142550574231233,\n",
       " 22.142550574231244)"
      ]
     },
     "execution_count": 3,
     "metadata": {},
     "output_type": "execute_result"
    }
   ],
   "source": [
    "# integrate method usage\n",
    "x_ex = np.linspace(0,np.pi,100)\n",
    "f_ex = np.sin(x_ex)\n",
    "f_ex2 = np.exp(x_ex)\n",
    "\n",
    "integrate_opt(x_ex,f_ex),integration(x_ex,f_ex),integrate_opt(x_ex,f_ex2),integration(x_ex,f_ex2)"
   ]
  },
  {
   "cell_type": "code",
   "execution_count": 4,
   "id": "0c85d40f",
   "metadata": {},
   "outputs": [],
   "source": [
    "# EXAMPLE\n",
    "# input\n",
    "a = -3\n",
    "b = 3\n",
    "g = 100\n",
    "n = 100\n",
    "sigma = 1\n",
    "beta = np.sin(np.linspace(a,b,g)*np.pi/4)\n",
    "def covariates_kernel(s,t):\n",
    "    return np.exp(-2*(t-s)**2)\n",
    "def prior_kernel(s,t):\n",
    "    return np.exp(-(t-s)**2)\n",
    "\n",
    "#generation\n",
    "data = data_generator(b,a,g,beta,n,covariates_kernel, sigma)\n",
    "T = data.grid()\n",
    "x,y = data.i_o()"
   ]
  },
  {
   "cell_type": "code",
   "execution_count": 5,
   "id": "d07722b8-7fb0-4086-90f9-72335b66e2a0",
   "metadata": {},
   "outputs": [],
   "source": [
    "class posterior_opt:\n",
    "    def __init__(self, T, x, y, prior_kernel,sigma):\n",
    "        self.T = T\n",
    "        self.x = x\n",
    "        self.y = y\n",
    "        self.prior_kernel = prior_kernel\n",
    "        self.n = y.shape[0]\n",
    "        self.g = T.shape[0]\n",
    "        self.sigma = sigma\n",
    "        self.K = np.fromfunction(np.vectorize(lambda s, t: self.prior_kernel(self.T[s], self.T[t])), (self.g, self.g), dtype=int)\n",
    "    \n",
    "    def Lx(self,t):   \n",
    "        L = np.zeros(self.n)    \n",
    "        for i in np.arange(0,self.n):\n",
    "            L[i] = integrate_opt(self.T,self.K[t, :] * self.x[i,:])\n",
    "        return L\n",
    "    \n",
    "    def R(self,i, j):\n",
    "        Ri = integrate_opt(self.T, self.K * self.x[i, :][:, np.newaxis])\n",
    "        return integrate_opt(self.T, Ri * self.x[j, :])\n",
    "    \n",
    "    def cov(self):\n",
    "        return np.array([[self.R(i, j) for j in range(self.n)] for i in range(self.n)])\n",
    "    \n",
    "    def posterior_mean_cov(self):\n",
    "        inv = np.linalg.inv(self.cov() + self.sigma * np.identity(self.n))\n",
    "        def m(t):\n",
    "            mean = np.dot(np.dot(np.transpose(self.Lx(t)),inv),self.y)\n",
    "            return mean\n",
    "        def Kstar(s,t):\n",
    "            cov = self.K[s,t] - np.dot(np.dot(np.transpose(self.Lx(s)),inv),self.Lx(t))\n",
    "            return cov\n",
    "        \n",
    "        m = np.fromfunction(np.vectorize(lambda t: m(t)), (self.g,), dtype=int)\n",
    "        C = np.fromfunction(np.vectorize(lambda t, s: Kstar(s,t)), (self.g,self.g), dtype=int)\n",
    "        return m,C\n",
    "    \n",
    "    def only_mean(self):\n",
    "        inv = np.linalg.inv(self.cov() + self.sigma * np.identity(self.n))\n",
    "        def m(t):\n",
    "            mean = np.dot(np.dot(np.transpose(self.Lx(t)),inv),self.y)\n",
    "            return mean\n",
    "        m = np.fromfunction(np.vectorize(lambda t: m(t)), (self.g,), dtype=int)\n",
    "        return m\n",
    "    \n",
    "    def fitted_values(self):\n",
    "        m = self.only_mean()\n",
    "        return np.fromfunction(np.vectorize(lambda i: integrate_opt(self.T, self.x[i,:]*m)), (self.n,), dtype=int)\n"
   ]
  },
  {
   "cell_type": "code",
   "execution_count": 6,
   "id": "38e40593",
   "metadata": {},
   "outputs": [],
   "source": [
    "import time\n",
    "\n",
    "s_old = time.time()\n",
    "\n",
    "p = posterior(T, x, y, prior_kernel, sigma)\n",
    "fitted = p.fitted_values()\n",
    "\n",
    "time_old = time.time()-s_old"
   ]
  },
  {
   "cell_type": "code",
   "execution_count": 7,
   "id": "df179db2",
   "metadata": {},
   "outputs": [],
   "source": [
    "s_new = time.time()\n",
    "\n",
    "p_opt = posterior_opt(T, x, y, prior_kernel, sigma)\n",
    "fitted_opt = p_opt.fitted_values()\n",
    "\n",
    "time_new = time.time()-s_new"
   ]
  },
  {
   "cell_type": "code",
   "execution_count": 8,
   "id": "8f6b50e6",
   "metadata": {},
   "outputs": [
    {
     "data": {
      "text/plain": [
       "(62.88062787055969, 0.7409634590148926)"
      ]
     },
     "execution_count": 8,
     "metadata": {},
     "output_type": "execute_result"
    }
   ],
   "source": [
    "# performance check\n",
    "time_old,time_new"
   ]
  },
  {
   "cell_type": "code",
   "execution_count": 9,
   "id": "90f6311e",
   "metadata": {},
   "outputs": [
    {
     "data": {
      "text/plain": [
       "array([ 1.74958461e-02, -9.15675131e-02,  1.29179549e-01, -1.42406390e-01,\n",
       "        9.73165000e-02,  9.17273670e-02,  5.11662877e-02, -1.16267624e-01,\n",
       "       -2.31327399e-01, -1.80955758e-01,  4.76955622e-02, -6.87538409e-02,\n",
       "        4.40624275e-02, -1.42355453e-01, -4.09979279e-01, -1.90097308e-01,\n",
       "       -1.33689321e-01, -2.27837077e-01, -2.33276765e-01, -2.30331714e-01,\n",
       "       -1.84787850e-01, -2.27971595e-01, -1.43290756e-01,  2.14568842e-01,\n",
       "        2.27358715e-01, -4.46359858e-01, -1.48767959e-01,  7.11698249e-02,\n",
       "       -1.26688256e-01, -2.08761653e-01,  1.40377768e-01, -6.32302591e-02,\n",
       "        1.75234778e-01,  2.60310076e-01, -6.63916910e-02,  3.78505574e-01,\n",
       "       -8.49060120e-02, -1.48669444e-01,  2.87543974e-02, -1.87679492e-01,\n",
       "        6.57320912e-02,  1.05013033e-01,  1.10840764e-01, -3.91138976e-01,\n",
       "        2.77296683e-01,  1.56706882e-01, -6.85263402e-02, -8.48297958e-02,\n",
       "        2.59656615e-01, -6.27824254e-02, -2.61203868e-01,  1.49084159e-01,\n",
       "       -8.77090306e-02, -7.50786939e-02, -1.50189522e-01, -1.99855946e-02,\n",
       "       -7.35952096e-02,  1.20298289e-01,  5.83714499e-02,  8.59147279e-02,\n",
       "       -1.20105886e-01, -3.34214752e-01, -7.06150559e-02,  8.18876661e-02,\n",
       "        3.75110563e-02,  2.28947239e-01,  6.40979563e-02, -2.33627718e-02,\n",
       "       -5.26194892e-02, -3.34343658e-01, -1.39356339e-01, -1.56640053e-01,\n",
       "        4.67066542e-02,  2.08547476e-01,  2.74288525e-01, -7.72016203e-05,\n",
       "       -4.09813847e-01, -7.45573067e-02, -4.08747034e-01,  2.46362529e-01,\n",
       "       -4.38712386e-02, -9.79648275e-02,  5.78779478e-02,  1.49001627e-01,\n",
       "       -4.00854736e-01, -1.94613730e-01,  1.58750794e-01, -3.28485557e-01,\n",
       "        9.32237530e-02, -3.54909475e-01,  1.27112769e-01,  1.65993541e-02,\n",
       "        1.02074425e-01, -2.37524711e-01, -1.90425930e-01, -1.48572357e-01,\n",
       "       -2.10825943e-01,  7.21720621e-02, -5.95292596e-02,  1.35439730e-01])"
      ]
     },
     "execution_count": 9,
     "metadata": {},
     "output_type": "execute_result"
    }
   ],
   "source": [
    "# coherence check\n",
    "fitted-fitted_opt"
   ]
  },
  {
   "cell_type": "code",
   "execution_count": 11,
   "id": "e2ba0a12",
   "metadata": {},
   "outputs": [
    {
     "data": {
      "text/plain": [
       "<matplotlib.collections.PathCollection at 0x1baa7d032e0>"
      ]
     },
     "execution_count": 11,
     "metadata": {},
     "output_type": "execute_result"
    },
    {
     "data": {
      "image/png": "[encoded data removed]",
      "text/plain": [
       "<Figure size 640x480 with 1 Axes>"
      ]
     },
     "metadata": {},
     "output_type": "display_data"
    }
   ],
   "source": [
    "plt.scatter(y,fitted_opt)"
   ]
  }
 ],
 "metadata": {
  "kernelspec": {
   "display_name": "Python 3 (ipykernel)",
   "language": "python",
   "name": "python3"
  },
  "language_info": {
   "codemirror_mode": {
    "name": "ipython",
    "version": 3
   },
   "file_extension": ".py",
   "mimetype": "text/x-python",
   "name": "python",
   "nbconvert_exporter": "python",
   "pygments_lexer": "ipython3",
   "version": "3.10.9"
  }
 },
 "nbformat": 4,
 "nbformat_minor": 5
}
