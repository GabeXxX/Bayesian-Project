{
 "cells": [
  {
   "cell_type": "code",
   "execution_count": 1,
   "id": "7e91749e",
   "metadata": {},
   "outputs": [
    {
     "name": "stderr",
     "output_type": "stream",
     "text": [
      "C:\\Users\\Michele\\anaconda3\\lib\\site-packages\\pandas\\core\\arrays\\masked.py:60: UserWarning: Pandas requires version '1.3.6' or newer of 'bottleneck' (version '1.3.5' currently installed).\n",
      "  from pandas.core import (\n",
      "C:\\Users\\Michele\\AppData\\Local\\Temp\\ipykernel_4064\\2978772541.py:2: DeprecationWarning: \n",
      "Pyarrow will become a required dependency of pandas in the next major release of pandas (pandas 3.0),\n",
      "(to allow more performant data types, such as the Arrow string type, and better interoperability with other libraries)\n",
      "but was not found to be installed on your system.\n",
      "If this would cause problems for you,\n",
      "please provide us feedback at https://github.com/pandas-dev/pandas/issues/54466\n",
      "        \n",
      "  import pandas as pd\n"
     ]
    }
   ],
   "source": [
    "import scipy\n",
    "import pandas as pd\n",
    "import matplotlib.pyplot as plt\n",
    "import numpy as np"
   ]
  },
  {
   "cell_type": "code",
   "execution_count": 2,
   "id": "4290b9bb",
   "metadata": {},
   "outputs": [],
   "source": [
    "df = scipy.io.loadmat('TremorStruct_V1_Joint_Severity_Constancy_After_Exclusion.mat')"
   ]
  },
  {
   "cell_type": "code",
   "execution_count": 3,
   "id": "78abdf7a",
   "metadata": {},
   "outputs": [
    {
     "data": {
      "text/plain": [
       "160"
      ]
     },
     "execution_count": 3,
     "metadata": {},
     "output_type": "execute_result"
    }
   ],
   "source": [
    "var = df['TremorStruct'][0]\n",
    "pat_number = len(var)\n",
    "pat_number"
   ]
  },
  {
   "cell_type": "code",
   "execution_count": 4,
   "id": "9c013a6f",
   "metadata": {},
   "outputs": [
    {
     "data": {
      "text/plain": [
       "3"
      ]
     },
     "execution_count": 4,
     "metadata": {},
     "output_type": "execute_result"
    }
   ],
   "source": [
    "# example\n",
    "var[0][12][0][0][-1][0][0]"
   ]
  },
  {
   "cell_type": "code",
   "execution_count": 5,
   "id": "23075b0d",
   "metadata": {},
   "outputs": [],
   "source": [
    "df_levadopa={}\n",
    "for i in range(pat_number):\n",
    "    if var[i][12][0][0][-1].shape[0]>0:\n",
    "        df_levadopa[str(i)]=var[i][12][0][0][-1][0][0]"
   ]
  },
  {
   "cell_type": "code",
   "execution_count": 6,
   "id": "6bccaa6b",
   "metadata": {},
   "outputs": [
    {
     "data": {
      "text/plain": [
       "dict_items([('0', 3), ('1', 3), ('2', 4), ('3', 0), ('4', 4), ('5', 3), ('6', 3), ('7', 4), ('8', 5), ('9', 3), ('10', 5), ('11', 0), ('12', 3), ('13', 5), ('14', 4), ('15', 3), ('16', 3), ('17', 6), ('18', 4), ('19', 3), ('20', 3), ('21', 3), ('22', 0), ('23', 6), ('24', 3), ('25', 3), ('26', 4), ('27', 3), ('28', 0), ('29', 3), ('30', 3), ('31', 4), ('32', 4), ('33', 4), ('34', 4), ('35', 5), ('36', 3), ('37', 4), ('38', 0), ('39', 5), ('40', 3), ('41', 4), ('42', 3), ('43', 3), ('44', 4), ('45', 0), ('46', 4), ('47', 3), ('48', 0), ('49', 8), ('50', 4), ('51', 4), ('52', 8), ('53', 5), ('54', 5), ('55', 6), ('56', 3), ('57', 3), ('58', 2), ('59', 5), ('60', 5), ('61', 4), ('62', 0), ('63', 4), ('64', 3), ('65', 3), ('66', 5), ('67', 4), ('68', 3), ('69', 3), ('70', 4), ('71', 4), ('72', 0), ('73', 3), ('74', 3), ('75', 3), ('76', 3), ('77', 4), ('78', 3), ('79', 5), ('80', 5), ('81', 1), ('82', 3), ('83', 5), ('84', 4), ('85', 5), ('86', 11), ('87', 4), ('88', 0), ('89', 11), ('90', 3), ('91', 3), ('92', 3), ('93', 5), ('94', 4), ('95', 4), ('96', 5), ('97', 4), ('98', 3), ('99', 0), ('100', 3), ('101', 5), ('102', 8), ('103', 3), ('104', 4), ('105', 4), ('106', 4), ('107', 5), ('108', 0), ('109', 7), ('110', 5), ('111', 4), ('112', 4), ('113', 3), ('114', 7), ('115', 6), ('116', 3), ('117', 5), ('118', 5), ('119', 3), ('120', 3), ('121', 6), ('122', 3), ('123', 0), ('124', 3), ('125', 2), ('126', 3), ('127', 3), ('128', 3), ('129', 4), ('130', 3), ('131', 0), ('132', 6), ('133', 4), ('134', 3), ('135', 3)])"
      ]
     },
     "execution_count": 6,
     "metadata": {},
     "output_type": "execute_result"
    }
   ],
   "source": [
    "df_levadopa.items()"
   ]
  },
  {
   "cell_type": "code",
   "execution_count": 7,
   "id": "5dbed209",
   "metadata": {},
   "outputs": [],
   "source": [
    "df_levadopa = pd.DataFrame(df_levadopa.items(),columns=['Pat Number', 'Levadopa Dosis'])"
   ]
  },
  {
   "cell_type": "code",
   "execution_count": 8,
   "id": "29f4f94a",
   "metadata": {},
   "outputs": [
    {
     "data": {
      "text/html": [
       "<div>\n",
       "<style scoped>\n",
       "    .dataframe tbody tr th:only-of-type {\n",
       "        vertical-align: middle;\n",
       "    }\n",
       "\n",
       "    .dataframe tbody tr th {\n",
       "        vertical-align: top;\n",
       "    }\n",
       "\n",
       "    .dataframe thead th {\n",
       "        text-align: right;\n",
       "    }\n",
       "</style>\n",
       "<table border=\"1\" class=\"dataframe\">\n",
       "  <thead>\n",
       "    <tr style=\"text-align: right;\">\n",
       "      <th></th>\n",
       "      <th>Pat Number</th>\n",
       "      <th>Levadopa Dosis</th>\n",
       "    </tr>\n",
       "  </thead>\n",
       "  <tbody>\n",
       "    <tr>\n",
       "      <th>0</th>\n",
       "      <td>0</td>\n",
       "      <td>3</td>\n",
       "    </tr>\n",
       "    <tr>\n",
       "      <th>1</th>\n",
       "      <td>1</td>\n",
       "      <td>3</td>\n",
       "    </tr>\n",
       "    <tr>\n",
       "      <th>2</th>\n",
       "      <td>2</td>\n",
       "      <td>4</td>\n",
       "    </tr>\n",
       "    <tr>\n",
       "      <th>3</th>\n",
       "      <td>3</td>\n",
       "      <td>0</td>\n",
       "    </tr>\n",
       "    <tr>\n",
       "      <th>4</th>\n",
       "      <td>4</td>\n",
       "      <td>4</td>\n",
       "    </tr>\n",
       "    <tr>\n",
       "      <th>...</th>\n",
       "      <td>...</td>\n",
       "      <td>...</td>\n",
       "    </tr>\n",
       "    <tr>\n",
       "      <th>131</th>\n",
       "      <td>131</td>\n",
       "      <td>0</td>\n",
       "    </tr>\n",
       "    <tr>\n",
       "      <th>132</th>\n",
       "      <td>132</td>\n",
       "      <td>6</td>\n",
       "    </tr>\n",
       "    <tr>\n",
       "      <th>133</th>\n",
       "      <td>133</td>\n",
       "      <td>4</td>\n",
       "    </tr>\n",
       "    <tr>\n",
       "      <th>134</th>\n",
       "      <td>134</td>\n",
       "      <td>3</td>\n",
       "    </tr>\n",
       "    <tr>\n",
       "      <th>135</th>\n",
       "      <td>135</td>\n",
       "      <td>3</td>\n",
       "    </tr>\n",
       "  </tbody>\n",
       "</table>\n",
       "<p>136 rows × 2 columns</p>\n",
       "</div>"
      ],
      "text/plain": [
       "    Pat Number  Levadopa Dosis\n",
       "0            0               3\n",
       "1            1               3\n",
       "2            2               4\n",
       "3            3               0\n",
       "4            4               4\n",
       "..         ...             ...\n",
       "131        131               0\n",
       "132        132               6\n",
       "133        133               4\n",
       "134        134               3\n",
       "135        135               3\n",
       "\n",
       "[136 rows x 2 columns]"
      ]
     },
     "execution_count": 8,
     "metadata": {},
     "output_type": "execute_result"
    }
   ],
   "source": [
    "df_levadopa"
   ]
  },
  {
   "cell_type": "code",
   "execution_count": 9,
   "id": "a43742cb",
   "metadata": {},
   "outputs": [],
   "source": [
    "df_levadopa.to_csv('levadopa_data.csv')"
   ]
  }
 ],
 "metadata": {
  "kernelspec": {
   "display_name": "Python 3 (ipykernel)",
   "language": "python",
   "name": "python3"
  },
  "language_info": {
   "codemirror_mode": {
    "name": "ipython",
    "version": 3
   },
   "file_extension": ".py",
   "mimetype": "text/x-python",
   "name": "python",
   "nbconvert_exporter": "python",
   "pygments_lexer": "ipython3",
   "version": "3.10.9"
  }
 },
 "nbformat": 4,
 "nbformat_minor": 5
}
